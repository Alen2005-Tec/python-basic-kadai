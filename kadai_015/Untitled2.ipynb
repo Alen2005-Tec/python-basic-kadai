{
  "nbformat": 4,
  "nbformat_minor": 0,
  "metadata": {
    "colab": {
      "provenance": []
    },
    "kernelspec": {
      "name": "python3",
      "display_name": "Python 3"
    },
    "language_info": {
      "name": "python"
    }
  },
  "cells": [
    {
      "cell_type": "code",
      "execution_count": 1,
      "metadata": {
        "colab": {
          "base_uri": "https://localhost:8080/"
        },
        "id": "8eKDpbeu0Dd9",
        "outputId": "4a4a5919-4e30-4bb5-d18d-f3e6dc1d01c9"
      },
      "outputs": [
        {
          "output_type": "stream",
          "name": "stdout",
          "text": [
            "名前 亜蓮\n",
            "年齢 20\n"
          ]
        }
      ],
      "source": [
        "class Human:\n",
        "  def __init__(self,name,age):\n",
        "    self.name = name\n",
        "    self.age = age\n",
        "\n",
        "  def printinfo(self):\n",
        "    print(\"名前\",self.name)\n",
        "    print(\"年齢\",self.age)\n",
        "\n",
        "human = Human(\n",
        "    name = \"亜蓮\",\n",
        "    age = 20\n",
        ")\n",
        "\n",
        "human.printinfo()"
      ]
    }
  ]
}