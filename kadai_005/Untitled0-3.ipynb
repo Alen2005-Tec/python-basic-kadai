{
  "nbformat": 4,
  "nbformat_minor": 0,
  "metadata": {
    "colab": {
      "provenance": []
    },
    "kernelspec": {
      "name": "python3",
      "display_name": "Python 3"
    },
    "language_info": {
      "name": "python"
    }
  },
  "cells": [
    {
      "cell_type": "code",
      "execution_count": null,
      "metadata": {
        "colab": {
          "base_uri": "https://localhost:8080/"
        },
        "id": "igvYRTRU7Qa5",
        "outputId": "038835ee-f069-4bc8-fa4c-87d666ed525c"
      },
      "outputs": [
        {
          "output_type": "stream",
          "name": "stdout",
          "text": [
            "75.0 cm²\n"
          ]
        }
      ],
      "source": [
        "top_side = 10\n",
        "down_side = 20\n",
        "top_side = 10\n",
        "down_side = 20\n",
        "height = 5\n",
        "\n",
        "print(f\"{(top_side + down_side) * height / 2} cm²\")"
      ]
    }
  ]
}