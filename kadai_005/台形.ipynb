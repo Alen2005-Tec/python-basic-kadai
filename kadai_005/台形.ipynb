{
  "nbformat": 4,
  "nbformat_minor": 0,
  "metadata": {
    "colab": {
      "provenance": []
    },
    "kernelspec": {
      "name": "python3",
      "display_name": "Python 3"
    },
    "language_info": {
      "name": "python"
    }
  },
  "cells": [
    {
      "cell_type": "code",
      "execution_count": 20,
      "metadata": {
        "colab": {
          "base_uri": "https://localhost:8080/"
        },
        "id": "igvYRTRU7Qa5",
        "outputId": "1d3dc193-893e-4458-ee4f-57db46869478"
      },
      "outputs": [
        {
          "output_type": "stream",
          "name": "stdout",
          "text": [
            "台形の面積は75.0cm²です。\n"
          ]
        }
      ],
      "source": [
        "top_side = 10\n",
        "down_side = 20\n",
        "top_side = 10\n",
        "down_side = 20\n",
        "height = 5\n",
        "\n",
        "area = (top_side + down_side) * height / 2\n",
        "\n",
        "print(f\"台形の面積は{area}cm²です。\")\n"
      ]
    },
    {
      "cell_type": "code",
      "source": [],
      "metadata": {
        "id": "-bVx2hJmcr5G"
      },
      "execution_count": null,
      "outputs": []
    }
  ]
}