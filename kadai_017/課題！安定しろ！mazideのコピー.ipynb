{
  "nbformat": 4,
  "nbformat_minor": 0,
  "metadata": {
    "colab": {
      "provenance": []
    },
    "kernelspec": {
      "name": "python3",
      "display_name": "Python 3"
    },
    "language_info": {
      "name": "python"
    }
  },
  "cells": [
    {
      "cell_type": "code",
      "execution_count": 2,
      "metadata": {
        "colab": {
          "base_uri": "https://localhost:8080/"
        },
        "id": "8eKDpbeu0Dd9",
        "outputId": "596c8b2b-72b6-42c1-b6aa-85d91a78e2b1"
      },
      "outputs": [
        {
          "output_type": "stream",
          "name": "stdout",
          "text": [
            "大人\n",
            "大人\n",
            "大人ではない\n"
          ]
        }
      ],
      "source": [
        "class Human:\n",
        "  def __init__(self,name,age):\n",
        "    self.name = name\n",
        "    self.age  = age\n",
        "\n",
        "  def check_adult(self):\n",
        "    if self.age >= 20:\n",
        "     print(\"大人\")\n",
        "\n",
        "    else:\n",
        "     print(\"大人ではない\")\n",
        "\n",
        "humans = [\n",
        "    Human(name = \"亜蓮\", age = 20),\n",
        "    Human(name = \"ぺっぺけ\", age = 234),\n",
        "    Human(name = \"お茶らか\", age =3)]\n",
        "\n",
        "for person in humans:\n",
        "  person.check_adult()\n",
        ""
      ]
    }
  ]
}