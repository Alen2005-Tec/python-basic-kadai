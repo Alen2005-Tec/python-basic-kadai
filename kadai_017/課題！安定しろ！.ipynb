{
  "nbformat": 4,
  "nbformat_minor": 0,
  "metadata": {
    "colab": {
      "provenance": []
    },
    "kernelspec": {
      "name": "python3",
      "display_name": "Python 3"
    },
    "language_info": {
      "name": "python"
    }
  },
  "cells": [
    {
      "cell_type": "code",
      "execution_count": 1,
      "metadata": {
        "colab": {
          "base_uri": "https://localhost:8080/"
        },
        "id": "8eKDpbeu0Dd9",
        "outputId": "a21efbb9-ee76-4723-d5bd-03cc264943e3"
      },
      "outputs": [
        {
          "output_type": "stream",
          "name": "stdout",
          "text": [
            "大人\n",
            "大人\n",
            "大人ではない\n"
          ]
        }
      ],
      "source": [
        "class Human:\n",
        "  def __init__(self,name,age):\n",
        "    self.name = name\n",
        "    self.age  = age\n",
        "\n",
        "  def check_adult(self):\n",
        "    if self.age >= 20:\n",
        "     print(\"大人\")\n",
        "\n",
        "    else:\n",
        "     print(\"大人ではない\")\n",
        "\n",
        "human1 = Human(name = \"亜蓮\", age = 20)\n",
        "human2 = Human(name = \"ぺっぺけ\", age = 234)\n",
        "human3 = Human(name = \"お茶らか\", age =3)\n",
        "\n",
        "human1.check_adult()\n",
        "human2.check_adult()\n",
        "human3.check_adult()"
      ]
    }
  ]
}