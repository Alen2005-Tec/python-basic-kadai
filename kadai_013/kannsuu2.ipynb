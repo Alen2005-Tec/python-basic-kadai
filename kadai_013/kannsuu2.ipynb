{
  "nbformat": 4,
  "nbformat_minor": 0,
  "metadata": {
    "colab": {
      "provenance": []
    },
    "kernelspec": {
      "name": "python3",
      "display_name": "Python 3"
    },
    "language_info": {
      "name": "python"
    }
  },
  "cells": [
    {
      "cell_type": "code",
      "execution_count": 3,
      "metadata": {
        "colab": {
          "base_uri": "https://localhost:8080/"
        },
        "id": "iTdvBrPcYalN",
        "outputId": "587b9300-3b93-47a5-db34-c1a5d110d665"
      },
      "outputs": [
        {
          "output_type": "execute_result",
          "data": {
            "text/plain": [
              "121.0"
            ]
          },
          "metadata": {},
          "execution_count": 3
        }
      ],
      "source": [
        "def total_price(price,tax):\n",
        "     total = price + price * tax / 100\n",
        "     return total\n",
        "\n",
        "total_price(110,10)"
      ]
    }
  ]
}