{
  "nbformat": 4,
  "nbformat_minor": 0,
  "metadata": {
    "colab": {
      "provenance": []
    },
    "kernelspec": {
      "name": "python3",
      "display_name": "Python 3"
    },
    "language_info": {
      "name": "python"
    }
  },
  "cells": [
    {
      "cell_type": "code",
      "execution_count": 2,
      "metadata": {
        "colab": {
          "base_uri": "https://localhost:8080/"
        },
        "id": "iTdvBrPcYalN",
        "outputId": "0cacf53a-0a4c-4a3e-e86e-e1f38c5efabf"
      },
      "outputs": [
        {
          "output_type": "stream",
          "name": "stdout",
          "text": [
            "商品の値段は121.0円です。\n"
          ]
        }
      ],
      "source": [
        "def total_price(price,tax):\n",
        "     total = price + price * tax / 100\n",
        "     print(f\"商品の値段は{total}円です。\")\n",
        "\n",
        "\n",
        "total_price(110,10)"
      ]
    }
  ]
}